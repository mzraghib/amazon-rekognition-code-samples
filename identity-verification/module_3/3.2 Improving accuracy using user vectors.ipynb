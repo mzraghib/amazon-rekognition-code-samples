{
 "cells": [
  {
   "cell_type": "markdown",
   "id": "f9fbd7d3-3ca4-498e-a5a4-5d47d668740b",
   "metadata": {
    "tags": []
   },
   "source": [
    "# Managing users in Amazon Rekognition Face collections"
   ]
  },
  {
   "cell_type": "markdown",
   "id": "18ea57e2-e319-436c-bc1d-e7129be9525f",
   "metadata": {},
   "source": [
    "Amazon Rekognition can store information about detected faces in server-side containers known as collections. \n",
    "You can store individual faces and associate multiple individual faces with a single user. \n",
    "\n",
    "Individual faces are stored as face vectors, a mathematical representation of the face (not the actual image of the face).\n",
    "Multiple face vectors can then be aggregated to create and store user vectors. \n",
    "\n",
    "User vectors are more robust representations, as they contain multiple face vectors with varying degrees of lighting, sharpness, poses, appearance differences, etc. \n",
    "\n",
    "Face matching with user vectors can improve accuracy by up to 45% compared to individual face vectors. You can use faces detected in images, stored videos, and streaming videos to search against stored face vectors and/or user vectors for face matching purposes."
   ]
  },
  {
   "cell_type": "markdown",
   "id": "336973f3-168f-4fa3-84f1-dc41c1ad3436",
   "metadata": {},
   "source": [
    "### Environment Setup"
   ]
  },
  {
   "cell_type": "markdown",
   "id": "dc95bf13-4d54-4bf0-a98d-e6e4d14cf468",
   "metadata": {},
   "source": [
    "First step let's import the necessary libraries to run the notebook and create an Amazon Rekognition client with Boto3."
   ]
  },
  {
   "cell_type": "code",
   "execution_count": 1,
   "id": "f237e557-41d3-4698-aa31-59ffa9db196f",
   "metadata": {
    "tags": []
   },
   "outputs": [],
   "source": [
    "import json, boto3, os\n",
    "client = boto3.client(\"rekognition\")"
   ]
  },
  {
   "cell_type": "markdown",
   "id": "14e66444-8caa-41b5-989d-a3fe0776a5ba",
   "metadata": {
    "tags": []
   },
   "source": [
    "### Create a new collection"
   ]
  },
  {
   "cell_type": "markdown",
   "id": "0ea22624-da77-43d8-b54c-730c89578cc2",
   "metadata": {},
   "source": [
    "Before we begin to create users in Rekognition, we must have an existing face collection. "
   ]
  },
  {
   "cell_type": "code",
   "execution_count": 2,
   "id": "82372a98-907d-42cb-a550-982e9cc9d305",
   "metadata": {
    "tags": []
   },
   "outputs": [],
   "source": [
    "collection_id='My_Face_Collection1' # Remember you must use a unique name if you are creating a new collection"
   ]
  },
  {
   "cell_type": "code",
   "execution_count": 3,
   "id": "42c7a93c-ac1d-4fee-8d70-a2ccdb3e86de",
   "metadata": {
    "tags": []
   },
   "outputs": [
    {
     "name": "stdout",
     "output_type": "stream",
     "text": [
      "Creating collection:My_Face_Collection1\n",
      "Collection ARN: aws:rekognition:us-east-1:715319310744:collection/My_Face_Collection1\n",
      "Status code: 200\n",
      "Done...\n"
     ]
    }
   ],
   "source": [
    "def create_collection(collection_id):\n",
    "    #Create a collection\n",
    "    print('Creating collection:' + collection_id)\n",
    "    response=client.create_collection(CollectionId=collection_id)\n",
    "    print('Collection ARN: ' + response['CollectionArn'])\n",
    "    print('Status code: ' + str(response['StatusCode']))\n",
    "    print('Done...')\n",
    "    \n",
    "create_collection(collection_id)"
   ]
  },
  {
   "cell_type": "markdown",
   "id": "958fc431-f505-4c15-942b-b4d3894a6dc8",
   "metadata": {},
   "source": [
    "### Confirm your collection creation"
   ]
  },
  {
   "cell_type": "markdown",
   "id": "65146c9c-ff06-4a1d-8c07-036382b2ae44",
   "metadata": {},
   "source": [
    "Let's display the collections in our account to verify the previous collection was completed correctly."
   ]
  },
  {
   "cell_type": "code",
   "execution_count": 4,
   "id": "ef270391-80a8-4598-bc50-2f816710e40a",
   "metadata": {
    "tags": []
   },
   "outputs": [
    {
     "name": "stdout",
     "output_type": "stream",
     "text": [
      "Displaying collections...\n",
      "- My_Face_Collection1\n",
      "- Riv-Prod-0\n",
      "- collection_v4_1\n",
      "- collection_v4_2\n",
      "- collection_v4_3\n",
      "- collection_v4_4\n",
      "- collection_v4_5\n",
      "- collection_v5\n",
      "- collection_v5_1\n",
      "- collection_v5_2\n",
      "- collection_v5_3\n",
      "- collection_v5_4\n",
      "- collection_v5_5\n",
      "- collection_v6_1\n",
      "- collection_v6_2\n",
      "- collection_v6_3\n",
      "- user-vector-blog-collection\n",
      "Collections: 17\n"
     ]
    }
   ],
   "source": [
    "def list_collections():\n",
    "\n",
    "    max_results=10\n",
    "\n",
    "    print('Displaying collections...')\n",
    "    response=client.list_collections(MaxResults=max_results)\n",
    "    collection_count=0\n",
    "    done=False\n",
    "\n",
    "    while done==False:\n",
    "        collections=response['CollectionIds']\n",
    "\n",
    "        for collection in collections:\n",
    "            print (\"- \"+ collection)\n",
    "            collection_count+=1\n",
    "        if 'NextToken' in response:\n",
    "            nextToken=response['NextToken']\n",
    "            response=client.list_collections(NextToken=nextToken,MaxResults=max_results)\n",
    "\n",
    "        else:\n",
    "            done=True\n",
    "            \n",
    "    return collection_count\n",
    "\n",
    "collection_count=list_collections()\n",
    "\n",
    "print(\"Collections: \" + str(collection_count))"
   ]
  },
  {
   "cell_type": "markdown",
   "id": "96fea421-cd9f-4288-b07d-6d527535a4d4",
   "metadata": {},
   "source": [
    "### Create a new user"
   ]
  },
  {
   "cell_type": "markdown",
   "id": "d0b996ca-e4b9-4bde-8fbf-f063a7b57cb5",
   "metadata": {},
   "source": [
    "Once the collection is created, we can proceed to create a user. We are going to use the **create_user** method, which creates a new user in a collection and returns a unique user ID."
   ]
  },
  {
   "cell_type": "code",
   "execution_count": 5,
   "id": "0d5ddc3d-421f-4f18-b8f7-aed0df294cbd",
   "metadata": {
    "tags": []
   },
   "outputs": [],
   "source": [
    "user_id = \"Daniel\"\n",
    "user2_id = \"John\""
   ]
  },
  {
   "cell_type": "code",
   "execution_count": 7,
   "id": "a0ee3d54-d5ae-4162-8186-cb23e4cdae78",
   "metadata": {
    "tags": []
   },
   "outputs": [
    {
     "ename": "AttributeError",
     "evalue": "'Rekognition' object has no attribute 'create_user'",
     "output_type": "error",
     "traceback": [
      "\u001b[0;31m---------------------------------------------------------------------------\u001b[0m",
      "\u001b[0;31mAttributeError\u001b[0m                            Traceback (most recent call last)",
      "Cell \u001b[0;32mIn[7], line 8\u001b[0m\n\u001b[1;32m      2\u001b[0m     response \u001b[38;5;241m=\u001b[39m client\u001b[38;5;241m.\u001b[39mcreate_user(\n\u001b[1;32m      3\u001b[0m         CollectionId\u001b[38;5;241m=\u001b[39mcollection_id, \n\u001b[1;32m      4\u001b[0m         UserId\u001b[38;5;241m=\u001b[39muser_id,\n\u001b[1;32m      5\u001b[0m     )\n\u001b[1;32m      6\u001b[0m     \u001b[38;5;28mprint\u001b[39m(response)\n\u001b[0;32m----> 8\u001b[0m \u001b[43mcreate_user\u001b[49m\u001b[43m(\u001b[49m\u001b[43muser_id\u001b[49m\u001b[43m)\u001b[49m\n\u001b[1;32m      9\u001b[0m create_user(user2_id)\n",
      "Cell \u001b[0;32mIn[7], line 2\u001b[0m, in \u001b[0;36mcreate_user\u001b[0;34m(user_id)\u001b[0m\n\u001b[1;32m      1\u001b[0m \u001b[38;5;28;01mdef\u001b[39;00m \u001b[38;5;21mcreate_user\u001b[39m(user_id):\n\u001b[0;32m----> 2\u001b[0m     response \u001b[38;5;241m=\u001b[39m \u001b[43mclient\u001b[49m\u001b[38;5;241;43m.\u001b[39;49m\u001b[43mcreate_user\u001b[49m(\n\u001b[1;32m      3\u001b[0m         CollectionId\u001b[38;5;241m=\u001b[39mcollection_id, \n\u001b[1;32m      4\u001b[0m         UserId\u001b[38;5;241m=\u001b[39muser_id,\n\u001b[1;32m      5\u001b[0m     )\n\u001b[1;32m      6\u001b[0m     \u001b[38;5;28mprint\u001b[39m(response)\n",
      "File \u001b[0;32m~/anaconda3/envs/python3/lib/python3.10/site-packages/botocore/client.py:875\u001b[0m, in \u001b[0;36mBaseClient.__getattr__\u001b[0;34m(self, item)\u001b[0m\n\u001b[1;32m    872\u001b[0m \u001b[38;5;28;01mif\u001b[39;00m event_response \u001b[38;5;129;01mis\u001b[39;00m \u001b[38;5;129;01mnot\u001b[39;00m \u001b[38;5;28;01mNone\u001b[39;00m:\n\u001b[1;32m    873\u001b[0m     \u001b[38;5;28;01mreturn\u001b[39;00m event_response\n\u001b[0;32m--> 875\u001b[0m \u001b[38;5;28;01mraise\u001b[39;00m \u001b[38;5;167;01mAttributeError\u001b[39;00m(\n\u001b[1;32m    876\u001b[0m     \u001b[38;5;124mf\u001b[39m\u001b[38;5;124m\"\u001b[39m\u001b[38;5;124m'\u001b[39m\u001b[38;5;132;01m{\u001b[39;00m\u001b[38;5;28mself\u001b[39m\u001b[38;5;241m.\u001b[39m\u001b[38;5;18m__class__\u001b[39m\u001b[38;5;241m.\u001b[39m\u001b[38;5;18m__name__\u001b[39m\u001b[38;5;132;01m}\u001b[39;00m\u001b[38;5;124m'\u001b[39m\u001b[38;5;124m object has no attribute \u001b[39m\u001b[38;5;124m'\u001b[39m\u001b[38;5;132;01m{\u001b[39;00mitem\u001b[38;5;132;01m}\u001b[39;00m\u001b[38;5;124m'\u001b[39m\u001b[38;5;124m\"\u001b[39m\n\u001b[1;32m    877\u001b[0m )\n",
      "\u001b[0;31mAttributeError\u001b[0m: 'Rekognition' object has no attribute 'create_user'"
     ]
    }
   ],
   "source": [
    "def create_user(user_id):\n",
    "    response = client.create_user(\n",
    "        CollectionId=collection_id, \n",
    "        UserId=user_id,\n",
    "    )\n",
    "    print(response)\n",
    "\n",
    "create_user(user_id)\n",
    "create_user(user2_id)"
   ]
  },
  {
   "cell_type": "markdown",
   "id": "c0cc9ff3-d093-450c-a1df-2d943359500f",
   "metadata": {},
   "source": [
    "### Confirm your collection creation"
   ]
  },
  {
   "cell_type": "markdown",
   "id": "c60221b9-ce48-48f2-a8cb-0b8a8cee885a",
   "metadata": {},
   "source": [
    "With the **list_users** method we can see the created users in our collection. \n",
    "\n",
    "The **UserStatus** reflects the status of an operation which updates a User representation with a list of given faces. The can be:\n",
    "- ACTIVE - All associations or disassociations of FaceID(s) for a User are complete.\n",
    "- CREATED - A User has been created,but has no FaceID(s) associated with it.\n",
    "- UPDATING - A User is being updated and there are current associations or disassociations of FaceID(s) taking place."
   ]
  },
  {
   "cell_type": "code",
   "execution_count": 9,
   "id": "ac08761b-341a-4e8b-8ae8-d44e08e593af",
   "metadata": {
    "tags": []
   },
   "outputs": [
    {
     "name": "stdout",
     "output_type": "stream",
     "text": [
      "[{'UserId': 'John', 'UserStatus': 'CREATED'}, {'UserId': 'Daniel', 'UserStatus': 'CREATED'}]\n"
     ]
    }
   ],
   "source": [
    "#ListUsers - Lists the users in a collection.\n",
    "def list_users():\n",
    "    response = client.list_users(\n",
    "        CollectionId=collection_id\n",
    "    )\n",
    "    print(response[\"Users\"])\n",
    "\n",
    "list_users()\n"
   ]
  },
  {
   "cell_type": "markdown",
   "id": "1c198ecb-b02b-47e3-abe8-8d2d8439a9c0",
   "metadata": {
    "tags": []
   },
   "source": [
    "### Add faces to a collection"
   ]
  },
  {
   "cell_type": "markdown",
   "id": "2ef2a80d-bfaf-4796-9aea-81ca1886de92",
   "metadata": {
    "tags": []
   },
   "source": [
    "Now we have our user created, let's populate the face collection with photos which will later be associated to the user. "
   ]
  },
  {
   "cell_type": "code",
   "execution_count": 10,
   "id": "12ddf854-5501-4f44-b96d-6b476f0d184b",
   "metadata": {
    "tags": []
   },
   "outputs": [],
   "source": [
    "def populate_collection(collection, directory):\n",
    "    for filename in os.listdir(directory):\n",
    "        f = os.path.join(directory, filename)\n",
    "        # checking if it is a file\n",
    "        if os.path.isfile(f):\n",
    "            print(f)\n",
    "            file = open(f, \"rb\") # opening for [r]eading as [b]inary\n",
    "            data = file.read() \n",
    "            response=client.index_faces(CollectionId=collection,\n",
    "                                Image={'Bytes':data},\n",
    "                                ExternalImageId=f.split(\"/\")[2],\n",
    "                                MaxFaces=1,\n",
    "                                QualityFilter=\"AUTO\",\n",
    "                                DetectionAttributes=['ALL'])\n",
    "            print ('Results for ' + f.split(\"/\")[2])\n",
    "            print('Faces indexed:')\n",
    "            for faceRecord in response['FaceRecords']:\n",
    "                print('  Face ID : {}'.format( faceRecord['Face']['FaceId']))\n",
    "                print('  Location: {}'.format(faceRecord['Face']['BoundingBox']))\n",
    "\n",
    "            if len(response['UnindexedFaces']) > 0:\n",
    "                print('Faces not indexed:')\n",
    "                for unindexed_face in response['UnindexedFaces']:\n",
    "                    print(' Location: {}'.format(unindexed_face['FaceDetail']['BoundingBox']))\n",
    "                    print(' Reasons :')\n",
    "                    for reason in unindexed_face['Reasons']:\n",
    "                        print('   ' + reason)\n",
    "            file.close()\n",
    "    return"
   ]
  },
  {
   "cell_type": "code",
   "execution_count": 11,
   "id": "cdb2ee83-9565-4e44-b0ab-4643b07375c5",
   "metadata": {
    "tags": []
   },
   "outputs": [],
   "source": [
    "directory = 'media/multiple-faces'"
   ]
  },
  {
   "cell_type": "code",
   "execution_count": 12,
   "id": "3a59ce22-996b-4fff-81a6-6eac1f73a869",
   "metadata": {
    "tags": []
   },
   "outputs": [
    {
     "name": "stdout",
     "output_type": "stream",
     "text": [
      "media/multiple-faces/dani1.jpg\n",
      "Results for dani1.jpg\n",
      "Faces indexed:\n",
      "  Face ID : f71eba80-0e18-41a3-8d23-bcf1567443fb\n",
      "  Location: {'Width': 0.6322183609008789, 'Height': 0.5936641097068787, 'Left': 0.07803937792778015, 'Top': 0.13227343559265137}\n",
      "media/multiple-faces/dani3.jpg\n",
      "Results for dani3.jpg\n",
      "Faces indexed:\n",
      "  Face ID : bc8747e2-63ad-4871-93f6-08f3bf969e93\n",
      "  Location: {'Width': 0.6141138672828674, 'Height': 0.5431267023086548, 'Left': 0.12507522106170654, 'Top': 0.10763099789619446}\n",
      "media/multiple-faces/dani2.jpg\n",
      "Results for dani2.jpg\n",
      "Faces indexed:\n",
      "  Face ID : e502456b-2aca-48c0-b163-32cace0b48c1\n",
      "  Location: {'Width': 0.5996366739273071, 'Height': 0.580813467502594, 'Left': 0.12779802083969116, 'Top': 0.14054232835769653}\n",
      "media/multiple-faces/dani4.jpg\n",
      "Results for dani4.jpg\n",
      "Faces indexed:\n",
      "  Face ID : 9d966fa6-b298-4f61-9021-99e08bcbfe41\n",
      "  Location: {'Width': 0.6733003258705139, 'Height': 0.623356282711029, 'Left': 0.07407209277153015, 'Top': 0.23582562804222107}\n"
     ]
    }
   ],
   "source": [
    "populate_collection(collection_id,directory)"
   ]
  },
  {
   "cell_type": "markdown",
   "id": "aafd4107-fbad-4380-83c7-9fdfd338ff6e",
   "metadata": {},
   "source": [
    "### List faces in the collection"
   ]
  },
  {
   "cell_type": "markdown",
   "id": "5fab09cc-bb62-4373-976c-baf33b7ab4d0",
   "metadata": {},
   "source": [
    "Review the faces have been correctly indexed into the collection."
   ]
  },
  {
   "cell_type": "code",
   "execution_count": 13,
   "id": "2e0ef10f-2eda-4947-af00-aece4203e195",
   "metadata": {
    "tags": []
   },
   "outputs": [
    {
     "name": "stdout",
     "output_type": "stream",
     "text": [
      "Image: dani4.jpg, FaceId: 9d966fa6-b298-4f61-9021-99e08bcbfe41\n",
      "Image: dani3.jpg, FaceId: bc8747e2-63ad-4871-93f6-08f3bf969e93\n",
      "Image: dani2.jpg, FaceId: e502456b-2aca-48c0-b163-32cace0b48c1\n",
      "Image: dani1.jpg, FaceId: f71eba80-0e18-41a3-8d23-bcf1567443fb\n",
      "FaceIds: ['9d966fa6-b298-4f61-9021-99e08bcbfe41', 'bc8747e2-63ad-4871-93f6-08f3bf969e93', 'e502456b-2aca-48c0-b163-32cace0b48c1', 'f71eba80-0e18-41a3-8d23-bcf1567443fb']\n"
     ]
    }
   ],
   "source": [
    "def list_collection_faces(collection_id):\n",
    "    response = client.list_faces(\n",
    "        CollectionId=collection_id\n",
    "    )\n",
    "    faces = []\n",
    "    for face in response[\"Faces\"]:\n",
    "        faces.append(face[\"FaceId\"])\n",
    "        print(\"Image: {}, FaceId: {}\".format(face[\"ExternalImageId\"],face[\"FaceId\"]))\n",
    "    return faces\n",
    "\n",
    "faces = list_collection_faces(collection_id)\n",
    "print(\"FaceIds:\",faces)"
   ]
  },
  {
   "cell_type": "markdown",
   "id": "2759566b-455c-4856-9a5e-bb2568525803",
   "metadata": {},
   "source": [
    "### Associate faces in the collections to a user"
   ]
  },
  {
   "cell_type": "markdown",
   "id": "7c5bf55a-38f1-4306-8e8f-e52508c546c8",
   "metadata": {},
   "source": [
    "It's time to associate the faces in our collection to our user. For this task we will use the **associate_faces** method.\n",
    "\n",
    "This method takes an array of FaceIds. Each FaceId that is present in the list is associated with the provided User. The maximum number of total FaceIds per User is 100.\n",
    "\n",
    "The parameter specifies the minimum User match confidence required for the face to be associated with a User that has at least one faceID already associated. This ensures that the FaceIds are associated with the right User. The value ranges from 0-100 and default value is 75."
   ]
  },
  {
   "cell_type": "markdown",
   "id": "d21c4b99-e488-4adf-989c-0cf82aeb9029",
   "metadata": {
    "tags": []
   },
   "source": [
    "#### Associate a single face to a user"
   ]
  },
  {
   "cell_type": "markdown",
   "id": "0c4d367e-f488-492d-8f5c-19f6aafde91d",
   "metadata": {
    "tags": []
   },
   "source": [
    "Let's associate a single face from our faces array. "
   ]
  },
  {
   "cell_type": "code",
   "execution_count": 14,
   "id": "33066d05-0b3d-4ccd-8450-6b8cc1dc4d71",
   "metadata": {
    "tags": []
   },
   "outputs": [
    {
     "name": "stdout",
     "output_type": "stream",
     "text": [
      "['9d966fa6-b298-4f61-9021-99e08bcbfe41']\n"
     ]
    }
   ],
   "source": [
    "print(faces[0:1])"
   ]
  },
  {
   "cell_type": "code",
   "execution_count": 15,
   "id": "3022c2a8-e9f6-422a-8b4a-72d6ee160d33",
   "metadata": {},
   "outputs": [
    {
     "name": "stdout",
     "output_type": "stream",
     "text": [
      "{'AssociatedFaces': [{'FaceId': '9d966fa6-b298-4f61-9021-99e08bcbfe41'}], 'UnsuccessfulFaceAssociations': [], 'UserStatus': 'UPDATING', 'ResponseMetadata': {'RequestId': '47ed8825-829e-433e-a678-2762e6d87b2a', 'HTTPStatusCode': 200, 'HTTPHeaders': {'x-amzn-requestid': '47ed8825-829e-433e-a678-2762e6d87b2a', 'content-type': 'application/x-amz-json-1.1', 'content-length': '129', 'date': 'Wed, 28 Jun 2023 14:11:40 GMT'}, 'RetryAttempts': 0}}\n"
     ]
    }
   ],
   "source": [
    "def associate_one_face(faceid, collection_id, user_id):\n",
    "    response = client.associate_faces(\n",
    "        CollectionId=collection_id,\n",
    "        UserId=user_id,\n",
    "        FaceIds=faceid\n",
    "    )\n",
    "    print(response)\n",
    "\n",
    "associate_one_face(faces[0:1], collection_id, user_id)"
   ]
  },
  {
   "cell_type": "markdown",
   "id": "d672722c-c1b1-426f-a18b-4d43adcee8f3",
   "metadata": {},
   "source": [
    "#### Associate multiple faces in the collections to a user"
   ]
  },
  {
   "cell_type": "markdown",
   "id": "f7e3320d-bfe5-4f4a-b622-d3924f1f8288",
   "metadata": {},
   "source": [
    "Let's associate a the remaining faces from our faces array"
   ]
  },
  {
   "cell_type": "code",
   "execution_count": 16,
   "id": "5c96a26d-548c-4de2-977c-4b5534589688",
   "metadata": {
    "tags": []
   },
   "outputs": [
    {
     "name": "stdout",
     "output_type": "stream",
     "text": [
      "['bc8747e2-63ad-4871-93f6-08f3bf969e93', 'e502456b-2aca-48c0-b163-32cace0b48c1', 'f71eba80-0e18-41a3-8d23-bcf1567443fb']\n"
     ]
    }
   ],
   "source": [
    "print(faces[1:])"
   ]
  },
  {
   "cell_type": "code",
   "execution_count": 17,
   "id": "72b4c286-92cc-4be0-902b-57015dbbab0c",
   "metadata": {
    "tags": []
   },
   "outputs": [
    {
     "name": "stdout",
     "output_type": "stream",
     "text": [
      "{'AssociatedFaces': [{'FaceId': 'bc8747e2-63ad-4871-93f6-08f3bf969e93'}, {'FaceId': 'e502456b-2aca-48c0-b163-32cace0b48c1'}, {'FaceId': 'f71eba80-0e18-41a3-8d23-bcf1567443fb'}], 'UnsuccessfulFaceAssociations': [], 'UserStatus': 'UPDATING', 'ResponseMetadata': {'RequestId': '2deefcca-999b-406a-a12b-94ae568a386b', 'HTTPStatusCode': 200, 'HTTPHeaders': {'x-amzn-requestid': '2deefcca-999b-406a-a12b-94ae568a386b', 'content-type': 'application/x-amz-json-1.1', 'content-length': '229', 'date': 'Wed, 28 Jun 2023 14:12:02 GMT'}, 'RetryAttempts': 0}}\n"
     ]
    }
   ],
   "source": [
    "def associate_multiple_faces(faces, collection_id, user_id):\n",
    "    response = client.associate_faces(\n",
    "        CollectionId=collection_id,\n",
    "        UserId=user_id,\n",
    "        FaceIds=faces,\n",
    "        UserMatchThreshold=75\n",
    "    )\n",
    "    print(response)\n",
    "\n",
    "associate_multiple_faces(faces[1:], collection_id, user_id)"
   ]
  },
  {
   "cell_type": "markdown",
   "id": "40e8b962-302d-465e-9715-be5be50fee7a",
   "metadata": {},
   "source": [
    "### Search Users by UserId or FaceId"
   ]
  },
  {
   "cell_type": "markdown",
   "id": "f5f70f79-012d-4ec1-bef1-ee843bd352dc",
   "metadata": {},
   "source": [
    "Searches for Users within a collection based on a or UserId. This API can be used to find the closest User (with a highest similarity) to associate a face. \n",
    "\n",
    "The request must be provided with either FaceId or UserId. The operation returns an array of User that matches the FaceId or UserId, ordered by similarity score with the highest similarity first."
   ]
  },
  {
   "cell_type": "code",
   "execution_count": 21,
   "id": "fb1fee2a-9e50-4a80-a547-4f013d86c067",
   "metadata": {
    "tags": []
   },
   "outputs": [
    {
     "name": "stdout",
     "output_type": "stream",
     "text": [
      "{'UserMatches': [{'Similarity': 99.99925231933594, 'User': {'UserId': 'Daniel', 'UserStatus': 'ACTIVE'}}], 'FaceModelVersion': '6', 'SearchedFace': {'FaceId': '9d966fa6-b298-4f61-9021-99e08bcbfe41'}, 'ResponseMetadata': {'RequestId': '61e6891b-9aaf-41ae-ad0e-93af987016ed', 'HTTPStatusCode': 200, 'HTTPHeaders': {'x-amzn-requestid': '61e6891b-9aaf-41ae-ad0e-93af987016ed', 'content-type': 'application/x-amz-json-1.1', 'content-length': '187', 'date': 'Wed, 28 Jun 2023 14:15:52 GMT'}, 'RetryAttempts': 0}}\n"
     ]
    }
   ],
   "source": [
    "def search_users(collection_id,face_id):\n",
    "    response = client.search_users(\n",
    "        CollectionId=collection_id,\n",
    "        FaceId=face_id\n",
    "        #UserId=user_id\n",
    "    )\n",
    "    print(response)\n",
    "    \n",
    "search_users(collection_id,faces[0:1][0])"
   ]
  },
  {
   "cell_type": "markdown",
   "id": "210174b2-7737-4c52-b12d-7324fa54da30",
   "metadata": {},
   "source": [
    "### Search Users by Image"
   ]
  },
  {
   "cell_type": "markdown",
   "id": "731267b8-f550-4d2c-b1c4-438b902fe598",
   "metadata": {},
   "source": [
    "Searches for Users using a supplied image. It first detects the largest face in the image, and then searches a specified collection for matching Users.\n",
    "\n",
    "The operation returns an array of Users that match the face in the supplied image, ordered by similarity score with the highest similarity first. It also returns a bounding box for the face found in the input image."
   ]
  },
  {
   "cell_type": "code",
   "execution_count": 22,
   "id": "d322c0aa-8c80-4ad9-bdb4-ba6fa83d8dd0",
   "metadata": {
    "tags": []
   },
   "outputs": [
    {
     "name": "stdout",
     "output_type": "stream",
     "text": [
      "{'UserMatches': [{'Similarity': 99.9505615234375, 'User': {'UserId': 'Daniel', 'UserStatus': 'ACTIVE'}}], 'FaceModelVersion': '6', 'SearchedFace': {'FaceDetail': {'BoundingBox': {'Width': 0.47910138964653015, 'Height': 0.457343190908432, 'Left': 0.24557287991046906, 'Top': 0.2843273878097534}}}, 'UnsearchedFaces': [], 'ResponseMetadata': {'RequestId': 'e8faa317-f6c3-46eb-9bb8-4ec4ba976923', 'HTTPStatusCode': 200, 'HTTPHeaders': {'x-amzn-requestid': 'e8faa317-f6c3-46eb-9bb8-4ec4ba976923', 'content-type': 'application/x-amz-json-1.1', 'content-length': '297', 'date': 'Wed, 28 Jun 2023 14:16:20 GMT'}, 'RetryAttempts': 0}}\n"
     ]
    }
   ],
   "source": [
    "image=\"dani.png\"\n",
    "\n",
    "def search_users_by_image(collection_id,image):\n",
    "    file = open(\"media/{}\".format(image), \"rb\") # opening for [r]eading as [b]inary\n",
    "    data = file.read() \n",
    "    response = client.search_users_by_image(\n",
    "        CollectionId=collection_id,\n",
    "        Image={'Bytes':data}\n",
    "    )\n",
    "    print(response)\n",
    "    \n",
    "search_users_by_image(collection_id,image)"
   ]
  },
  {
   "cell_type": "markdown",
   "id": "44e3c4cf-175b-4744-9b6f-73b9162a3c5c",
   "metadata": {},
   "source": [
    "### Disassociate faces from a user"
   ]
  },
  {
   "cell_type": "markdown",
   "id": "a8f0223b-df14-413e-bc6e-64c1c3d4ab67",
   "metadata": {},
   "source": [
    "Remove the association between a Face supplied in an array of FaceIds and the User. If the User is not present already, then a ResourceNotFound exception is thrown."
   ]
  },
  {
   "cell_type": "code",
   "execution_count": null,
   "id": "5de6db2a-5523-4dc5-ac55-ab6a81a5e97a",
   "metadata": {
    "tags": []
   },
   "outputs": [],
   "source": [
    "def disassociate_faces(face_ids,collection_id,user_id):\n",
    "    response = client.disassociate_faces(\n",
    "        CollectionId=collection_id,\n",
    "        UserId=user_id,\n",
    "        FaceIds=face_ids\n",
    "    )\n",
    "    print(response)\n",
    "disassociate_faces(faces,collection_id,user_id)"
   ]
  },
  {
   "cell_type": "markdown",
   "id": "2e5f6f10-9b95-4f62-aa0f-bae057cca5f7",
   "metadata": {},
   "source": [
    "### Delete a user"
   ]
  },
  {
   "cell_type": "markdown",
   "id": "bb9c127b-493a-4230-ab06-dc328aeb4bde",
   "metadata": {},
   "source": [
    "Let's delete the user we created in our collection."
   ]
  },
  {
   "cell_type": "code",
   "execution_count": null,
   "id": "58ce4584-a951-4146-9bec-7f4656e4d86a",
   "metadata": {
    "tags": []
   },
   "outputs": [],
   "source": [
    "def delete_user(collection_id,user_id):\n",
    "    response = client.delete_user(\n",
    "        CollectionId=collection_id,\n",
    "        UserId=user_id\n",
    "    )\n",
    "    print(response)"
   ]
  },
  {
   "cell_type": "code",
   "execution_count": null,
   "id": "5cb11318-a857-4c41-a16d-abd016131d78",
   "metadata": {
    "tags": []
   },
   "outputs": [],
   "source": [
    "delete_user(collection_id,user_id)\n",
    "delete_user(collection_id,user2_id)"
   ]
  },
  {
   "cell_type": "code",
   "execution_count": null,
   "id": "9f634a8c-9131-41fd-9eb4-254922593245",
   "metadata": {
    "tags": []
   },
   "outputs": [],
   "source": [
    "list_users()"
   ]
  },
  {
   "cell_type": "markdown",
   "id": "7c3aeef2-3c3a-475b-9724-90dd51d49fec",
   "metadata": {},
   "source": [
    "### Delete collection"
   ]
  },
  {
   "cell_type": "markdown",
   "id": "5de00482-e5ad-4ec9-bfb1-46ec811e196c",
   "metadata": {},
   "source": [
    "Let's delete the collections we created in our account."
   ]
  },
  {
   "cell_type": "code",
   "execution_count": null,
   "id": "d4c1b21f-efcf-45d4-8ceb-e28d2b56764e",
   "metadata": {
    "tags": []
   },
   "outputs": [],
   "source": [
    "def delete_collection(collection_id):\n",
    "\n",
    "    print('Attempting to delete collection ' + collection_id)\n",
    "    status_code=0\n",
    "    try:\n",
    "        response=client.delete_collection(CollectionId=collection_id)\n",
    "        status_code=response['StatusCode']\n",
    "        \n",
    "    except ClientError as e:\n",
    "        if e.response['Error']['Code'] == 'ResourceNotFoundException':\n",
    "            print ('The collection ' + collection_id + ' was not found ')\n",
    "        else:\n",
    "            print ('Error other than Not Found occurred: ' + e.response['Error']['Message'])\n",
    "        status_code=e.response['ResponseMetadata']['HTTPStatusCode']\n",
    "    print('Status code: ' + str(status_code))\n",
    "\n",
    "\n",
    "delete_collection(collection_id)"
   ]
  },
  {
   "cell_type": "code",
   "execution_count": null,
   "id": "111cb00c-5ac2-4907-a107-5ed0de47ae9c",
   "metadata": {
    "tags": []
   },
   "outputs": [],
   "source": [
    "collection_count=list_collections()\n",
    "print(\"Collections: \" + str(collection_count))"
   ]
  },
  {
   "cell_type": "code",
   "execution_count": null,
   "id": "4518dee7-08ce-4d01-971d-16da19ec5774",
   "metadata": {},
   "outputs": [],
   "source": []
  }
 ],
 "metadata": {
  "availableInstances": [
   {
    "_defaultOrder": 0,
    "_isFastLaunch": true,
    "category": "General purpose",
    "gpuNum": 0,
    "hideHardwareSpecs": false,
    "memoryGiB": 4,
    "name": "ml.t3.medium",
    "vcpuNum": 2
   },
   {
    "_defaultOrder": 1,
    "_isFastLaunch": false,
    "category": "General purpose",
    "gpuNum": 0,
    "hideHardwareSpecs": false,
    "memoryGiB": 8,
    "name": "ml.t3.large",
    "vcpuNum": 2
   },
   {
    "_defaultOrder": 2,
    "_isFastLaunch": false,
    "category": "General purpose",
    "gpuNum": 0,
    "hideHardwareSpecs": false,
    "memoryGiB": 16,
    "name": "ml.t3.xlarge",
    "vcpuNum": 4
   },
   {
    "_defaultOrder": 3,
    "_isFastLaunch": false,
    "category": "General purpose",
    "gpuNum": 0,
    "hideHardwareSpecs": false,
    "memoryGiB": 32,
    "name": "ml.t3.2xlarge",
    "vcpuNum": 8
   },
   {
    "_defaultOrder": 4,
    "_isFastLaunch": true,
    "category": "General purpose",
    "gpuNum": 0,
    "hideHardwareSpecs": false,
    "memoryGiB": 8,
    "name": "ml.m5.large",
    "vcpuNum": 2
   },
   {
    "_defaultOrder": 5,
    "_isFastLaunch": false,
    "category": "General purpose",
    "gpuNum": 0,
    "hideHardwareSpecs": false,
    "memoryGiB": 16,
    "name": "ml.m5.xlarge",
    "vcpuNum": 4
   },
   {
    "_defaultOrder": 6,
    "_isFastLaunch": false,
    "category": "General purpose",
    "gpuNum": 0,
    "hideHardwareSpecs": false,
    "memoryGiB": 32,
    "name": "ml.m5.2xlarge",
    "vcpuNum": 8
   },
   {
    "_defaultOrder": 7,
    "_isFastLaunch": false,
    "category": "General purpose",
    "gpuNum": 0,
    "hideHardwareSpecs": false,
    "memoryGiB": 64,
    "name": "ml.m5.4xlarge",
    "vcpuNum": 16
   },
   {
    "_defaultOrder": 8,
    "_isFastLaunch": false,
    "category": "General purpose",
    "gpuNum": 0,
    "hideHardwareSpecs": false,
    "memoryGiB": 128,
    "name": "ml.m5.8xlarge",
    "vcpuNum": 32
   },
   {
    "_defaultOrder": 9,
    "_isFastLaunch": false,
    "category": "General purpose",
    "gpuNum": 0,
    "hideHardwareSpecs": false,
    "memoryGiB": 192,
    "name": "ml.m5.12xlarge",
    "vcpuNum": 48
   },
   {
    "_defaultOrder": 10,
    "_isFastLaunch": false,
    "category": "General purpose",
    "gpuNum": 0,
    "hideHardwareSpecs": false,
    "memoryGiB": 256,
    "name": "ml.m5.16xlarge",
    "vcpuNum": 64
   },
   {
    "_defaultOrder": 11,
    "_isFastLaunch": false,
    "category": "General purpose",
    "gpuNum": 0,
    "hideHardwareSpecs": false,
    "memoryGiB": 384,
    "name": "ml.m5.24xlarge",
    "vcpuNum": 96
   },
   {
    "_defaultOrder": 12,
    "_isFastLaunch": false,
    "category": "General purpose",
    "gpuNum": 0,
    "hideHardwareSpecs": false,
    "memoryGiB": 8,
    "name": "ml.m5d.large",
    "vcpuNum": 2
   },
   {
    "_defaultOrder": 13,
    "_isFastLaunch": false,
    "category": "General purpose",
    "gpuNum": 0,
    "hideHardwareSpecs": false,
    "memoryGiB": 16,
    "name": "ml.m5d.xlarge",
    "vcpuNum": 4
   },
   {
    "_defaultOrder": 14,
    "_isFastLaunch": false,
    "category": "General purpose",
    "gpuNum": 0,
    "hideHardwareSpecs": false,
    "memoryGiB": 32,
    "name": "ml.m5d.2xlarge",
    "vcpuNum": 8
   },
   {
    "_defaultOrder": 15,
    "_isFastLaunch": false,
    "category": "General purpose",
    "gpuNum": 0,
    "hideHardwareSpecs": false,
    "memoryGiB": 64,
    "name": "ml.m5d.4xlarge",
    "vcpuNum": 16
   },
   {
    "_defaultOrder": 16,
    "_isFastLaunch": false,
    "category": "General purpose",
    "gpuNum": 0,
    "hideHardwareSpecs": false,
    "memoryGiB": 128,
    "name": "ml.m5d.8xlarge",
    "vcpuNum": 32
   },
   {
    "_defaultOrder": 17,
    "_isFastLaunch": false,
    "category": "General purpose",
    "gpuNum": 0,
    "hideHardwareSpecs": false,
    "memoryGiB": 192,
    "name": "ml.m5d.12xlarge",
    "vcpuNum": 48
   },
   {
    "_defaultOrder": 18,
    "_isFastLaunch": false,
    "category": "General purpose",
    "gpuNum": 0,
    "hideHardwareSpecs": false,
    "memoryGiB": 256,
    "name": "ml.m5d.16xlarge",
    "vcpuNum": 64
   },
   {
    "_defaultOrder": 19,
    "_isFastLaunch": false,
    "category": "General purpose",
    "gpuNum": 0,
    "hideHardwareSpecs": false,
    "memoryGiB": 384,
    "name": "ml.m5d.24xlarge",
    "vcpuNum": 96
   },
   {
    "_defaultOrder": 20,
    "_isFastLaunch": false,
    "category": "General purpose",
    "gpuNum": 0,
    "hideHardwareSpecs": true,
    "memoryGiB": 0,
    "name": "ml.geospatial.interactive",
    "supportedImageNames": [
     "sagemaker-geospatial-v1-0"
    ],
    "vcpuNum": 0
   },
   {
    "_defaultOrder": 21,
    "_isFastLaunch": true,
    "category": "Compute optimized",
    "gpuNum": 0,
    "hideHardwareSpecs": false,
    "memoryGiB": 4,
    "name": "ml.c5.large",
    "vcpuNum": 2
   },
   {
    "_defaultOrder": 22,
    "_isFastLaunch": false,
    "category": "Compute optimized",
    "gpuNum": 0,
    "hideHardwareSpecs": false,
    "memoryGiB": 8,
    "name": "ml.c5.xlarge",
    "vcpuNum": 4
   },
   {
    "_defaultOrder": 23,
    "_isFastLaunch": false,
    "category": "Compute optimized",
    "gpuNum": 0,
    "hideHardwareSpecs": false,
    "memoryGiB": 16,
    "name": "ml.c5.2xlarge",
    "vcpuNum": 8
   },
   {
    "_defaultOrder": 24,
    "_isFastLaunch": false,
    "category": "Compute optimized",
    "gpuNum": 0,
    "hideHardwareSpecs": false,
    "memoryGiB": 32,
    "name": "ml.c5.4xlarge",
    "vcpuNum": 16
   },
   {
    "_defaultOrder": 25,
    "_isFastLaunch": false,
    "category": "Compute optimized",
    "gpuNum": 0,
    "hideHardwareSpecs": false,
    "memoryGiB": 72,
    "name": "ml.c5.9xlarge",
    "vcpuNum": 36
   },
   {
    "_defaultOrder": 26,
    "_isFastLaunch": false,
    "category": "Compute optimized",
    "gpuNum": 0,
    "hideHardwareSpecs": false,
    "memoryGiB": 96,
    "name": "ml.c5.12xlarge",
    "vcpuNum": 48
   },
   {
    "_defaultOrder": 27,
    "_isFastLaunch": false,
    "category": "Compute optimized",
    "gpuNum": 0,
    "hideHardwareSpecs": false,
    "memoryGiB": 144,
    "name": "ml.c5.18xlarge",
    "vcpuNum": 72
   },
   {
    "_defaultOrder": 28,
    "_isFastLaunch": false,
    "category": "Compute optimized",
    "gpuNum": 0,
    "hideHardwareSpecs": false,
    "memoryGiB": 192,
    "name": "ml.c5.24xlarge",
    "vcpuNum": 96
   },
   {
    "_defaultOrder": 29,
    "_isFastLaunch": true,
    "category": "Accelerated computing",
    "gpuNum": 1,
    "hideHardwareSpecs": false,
    "memoryGiB": 16,
    "name": "ml.g4dn.xlarge",
    "vcpuNum": 4
   },
   {
    "_defaultOrder": 30,
    "_isFastLaunch": false,
    "category": "Accelerated computing",
    "gpuNum": 1,
    "hideHardwareSpecs": false,
    "memoryGiB": 32,
    "name": "ml.g4dn.2xlarge",
    "vcpuNum": 8
   },
   {
    "_defaultOrder": 31,
    "_isFastLaunch": false,
    "category": "Accelerated computing",
    "gpuNum": 1,
    "hideHardwareSpecs": false,
    "memoryGiB": 64,
    "name": "ml.g4dn.4xlarge",
    "vcpuNum": 16
   },
   {
    "_defaultOrder": 32,
    "_isFastLaunch": false,
    "category": "Accelerated computing",
    "gpuNum": 1,
    "hideHardwareSpecs": false,
    "memoryGiB": 128,
    "name": "ml.g4dn.8xlarge",
    "vcpuNum": 32
   },
   {
    "_defaultOrder": 33,
    "_isFastLaunch": false,
    "category": "Accelerated computing",
    "gpuNum": 4,
    "hideHardwareSpecs": false,
    "memoryGiB": 192,
    "name": "ml.g4dn.12xlarge",
    "vcpuNum": 48
   },
   {
    "_defaultOrder": 34,
    "_isFastLaunch": false,
    "category": "Accelerated computing",
    "gpuNum": 1,
    "hideHardwareSpecs": false,
    "memoryGiB": 256,
    "name": "ml.g4dn.16xlarge",
    "vcpuNum": 64
   },
   {
    "_defaultOrder": 35,
    "_isFastLaunch": false,
    "category": "Accelerated computing",
    "gpuNum": 1,
    "hideHardwareSpecs": false,
    "memoryGiB": 61,
    "name": "ml.p3.2xlarge",
    "vcpuNum": 8
   },
   {
    "_defaultOrder": 36,
    "_isFastLaunch": false,
    "category": "Accelerated computing",
    "gpuNum": 4,
    "hideHardwareSpecs": false,
    "memoryGiB": 244,
    "name": "ml.p3.8xlarge",
    "vcpuNum": 32
   },
   {
    "_defaultOrder": 37,
    "_isFastLaunch": false,
    "category": "Accelerated computing",
    "gpuNum": 8,
    "hideHardwareSpecs": false,
    "memoryGiB": 488,
    "name": "ml.p3.16xlarge",
    "vcpuNum": 64
   },
   {
    "_defaultOrder": 38,
    "_isFastLaunch": false,
    "category": "Accelerated computing",
    "gpuNum": 8,
    "hideHardwareSpecs": false,
    "memoryGiB": 768,
    "name": "ml.p3dn.24xlarge",
    "vcpuNum": 96
   },
   {
    "_defaultOrder": 39,
    "_isFastLaunch": false,
    "category": "Memory Optimized",
    "gpuNum": 0,
    "hideHardwareSpecs": false,
    "memoryGiB": 16,
    "name": "ml.r5.large",
    "vcpuNum": 2
   },
   {
    "_defaultOrder": 40,
    "_isFastLaunch": false,
    "category": "Memory Optimized",
    "gpuNum": 0,
    "hideHardwareSpecs": false,
    "memoryGiB": 32,
    "name": "ml.r5.xlarge",
    "vcpuNum": 4
   },
   {
    "_defaultOrder": 41,
    "_isFastLaunch": false,
    "category": "Memory Optimized",
    "gpuNum": 0,
    "hideHardwareSpecs": false,
    "memoryGiB": 64,
    "name": "ml.r5.2xlarge",
    "vcpuNum": 8
   },
   {
    "_defaultOrder": 42,
    "_isFastLaunch": false,
    "category": "Memory Optimized",
    "gpuNum": 0,
    "hideHardwareSpecs": false,
    "memoryGiB": 128,
    "name": "ml.r5.4xlarge",
    "vcpuNum": 16
   },
   {
    "_defaultOrder": 43,
    "_isFastLaunch": false,
    "category": "Memory Optimized",
    "gpuNum": 0,
    "hideHardwareSpecs": false,
    "memoryGiB": 256,
    "name": "ml.r5.8xlarge",
    "vcpuNum": 32
   },
   {
    "_defaultOrder": 44,
    "_isFastLaunch": false,
    "category": "Memory Optimized",
    "gpuNum": 0,
    "hideHardwareSpecs": false,
    "memoryGiB": 384,
    "name": "ml.r5.12xlarge",
    "vcpuNum": 48
   },
   {
    "_defaultOrder": 45,
    "_isFastLaunch": false,
    "category": "Memory Optimized",
    "gpuNum": 0,
    "hideHardwareSpecs": false,
    "memoryGiB": 512,
    "name": "ml.r5.16xlarge",
    "vcpuNum": 64
   },
   {
    "_defaultOrder": 46,
    "_isFastLaunch": false,
    "category": "Memory Optimized",
    "gpuNum": 0,
    "hideHardwareSpecs": false,
    "memoryGiB": 768,
    "name": "ml.r5.24xlarge",
    "vcpuNum": 96
   },
   {
    "_defaultOrder": 47,
    "_isFastLaunch": false,
    "category": "Accelerated computing",
    "gpuNum": 1,
    "hideHardwareSpecs": false,
    "memoryGiB": 16,
    "name": "ml.g5.xlarge",
    "vcpuNum": 4
   },
   {
    "_defaultOrder": 48,
    "_isFastLaunch": false,
    "category": "Accelerated computing",
    "gpuNum": 1,
    "hideHardwareSpecs": false,
    "memoryGiB": 32,
    "name": "ml.g5.2xlarge",
    "vcpuNum": 8
   },
   {
    "_defaultOrder": 49,
    "_isFastLaunch": false,
    "category": "Accelerated computing",
    "gpuNum": 1,
    "hideHardwareSpecs": false,
    "memoryGiB": 64,
    "name": "ml.g5.4xlarge",
    "vcpuNum": 16
   },
   {
    "_defaultOrder": 50,
    "_isFastLaunch": false,
    "category": "Accelerated computing",
    "gpuNum": 1,
    "hideHardwareSpecs": false,
    "memoryGiB": 128,
    "name": "ml.g5.8xlarge",
    "vcpuNum": 32
   },
   {
    "_defaultOrder": 51,
    "_isFastLaunch": false,
    "category": "Accelerated computing",
    "gpuNum": 1,
    "hideHardwareSpecs": false,
    "memoryGiB": 256,
    "name": "ml.g5.16xlarge",
    "vcpuNum": 64
   },
   {
    "_defaultOrder": 52,
    "_isFastLaunch": false,
    "category": "Accelerated computing",
    "gpuNum": 4,
    "hideHardwareSpecs": false,
    "memoryGiB": 192,
    "name": "ml.g5.12xlarge",
    "vcpuNum": 48
   },
   {
    "_defaultOrder": 53,
    "_isFastLaunch": false,
    "category": "Accelerated computing",
    "gpuNum": 4,
    "hideHardwareSpecs": false,
    "memoryGiB": 384,
    "name": "ml.g5.24xlarge",
    "vcpuNum": 96
   },
   {
    "_defaultOrder": 54,
    "_isFastLaunch": false,
    "category": "Accelerated computing",
    "gpuNum": 8,
    "hideHardwareSpecs": false,
    "memoryGiB": 768,
    "name": "ml.g5.48xlarge",
    "vcpuNum": 192
   },
   {
    "_defaultOrder": 55,
    "_isFastLaunch": false,
    "category": "Accelerated computing",
    "gpuNum": 8,
    "hideHardwareSpecs": false,
    "memoryGiB": 1152,
    "name": "ml.p4d.24xlarge",
    "vcpuNum": 96
   },
   {
    "_defaultOrder": 56,
    "_isFastLaunch": false,
    "category": "Accelerated computing",
    "gpuNum": 8,
    "hideHardwareSpecs": false,
    "memoryGiB": 1152,
    "name": "ml.p4de.24xlarge",
    "vcpuNum": 96
   }
  ],
  "instance_type": "ml.t3.medium",
  "kernelspec": {
   "display_name": "conda_python3",
   "language": "python",
   "name": "conda_python3"
  },
  "language_info": {
   "codemirror_mode": {
    "name": "ipython",
    "version": 3
   },
   "file_extension": ".py",
   "mimetype": "text/x-python",
   "name": "python",
   "nbconvert_exporter": "python",
   "pygments_lexer": "ipython3",
   "version": "3.10.10"
  }
 },
 "nbformat": 4,
 "nbformat_minor": 5
}
